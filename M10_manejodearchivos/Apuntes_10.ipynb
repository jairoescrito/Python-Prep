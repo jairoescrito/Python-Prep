{
 "cells": [
  {
   "cell_type": "code",
   "execution_count": 2,
   "metadata": {},
   "outputs": [
    {
     "name": "stdout",
     "output_type": "stream",
     "text": [
      "Hemos visto al menos 5 formas de mostrar 3 oraciones por pantalla\n"
     ]
    }
   ],
   "source": [
    "# Impresión por pantalla con print f\n",
    "\n",
    "num_oraciones = 3\n",
    "print(f'Hemos visto al menos {num_oraciones + 2} formas de mostrar {num_oraciones} oraciones por pantalla')"
   ]
  },
  {
   "cell_type": "code",
   "execution_count": 3,
   "metadata": {},
   "outputs": [],
   "source": [
    "# Escritura de archivos\n",
    "import os\n",
    "ingredientes = ['Cebolla', 'Tomate', 'Aceite']\n",
    "archivo = open('datos.txt', 'w') # w hace referencia a write\n",
    "for elemento in ingredientes:\n",
    "    archivo.write(elemento+'\\n')\n",
    "archivo.close()"
   ]
  },
  {
   "cell_type": "code",
   "execution_count": 4,
   "metadata": {},
   "outputs": [
    {
     "name": "stdout",
     "output_type": "stream",
     "text": [
      "Cebolla\n",
      "\n",
      "Tomate\n",
      "\n",
      "Aceite\n",
      "\n"
     ]
    }
   ],
   "source": [
    "# Lectura de archivos\n",
    "import os\n",
    "archivo = open('datos.txt','r') # r hace referencia a read\n",
    "for linea in archivo:\n",
    "    print(linea)\n",
    "archivo.close()"
   ]
  },
  {
   "cell_type": "code",
   "execution_count": null,
   "metadata": {},
   "outputs": [],
   "source": [
    "# web scrapping\n",
    "# impportar las librerías necesarias\n",
    "from bs4 import BeautifulSoup\n",
    "import urllib.request\n",
    "# Descargar la página html\n",
    "response = urllib.request.urlopen('https://es.wikipedia.org/wiki/Python')\n",
    "html = response.read\n",
    "# Para extraer el texto de la página web\n",
    "soup = BeautifulSoup(html,'html.parser')\n",
    "text =  soup.get_text()\n",
    "# Para extraer solo links de la página web\n",
    "links = soup.find_all('a')"
   ]
  }
 ],
 "metadata": {
  "kernelspec": {
   "display_name": "base",
   "language": "python",
   "name": "python3"
  },
  "language_info": {
   "codemirror_mode": {
    "name": "ipython",
    "version": 3
   },
   "file_extension": ".py",
   "mimetype": "text/x-python",
   "name": "python",
   "nbconvert_exporter": "python",
   "pygments_lexer": "ipython3",
   "version": "3.10.13"
  }
 },
 "nbformat": 4,
 "nbformat_minor": 2
}

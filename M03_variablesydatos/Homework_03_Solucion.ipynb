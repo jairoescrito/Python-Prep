{
 "cells": [
  {
   "cell_type": "markdown",
   "id": "e627bff1",
   "metadata": {},
   "source": [
    "1) Crear una variable que contenga un elemento del conjunto de números enteros y luego imprimir por pantalla"
   ]
  },
  {
   "cell_type": "code",
   "execution_count": 3,
   "id": "a5dacb4f",
   "metadata": {},
   "outputs": [
    {
     "name": "stdout",
     "output_type": "stream",
     "text": [
      "Variable número entero 8\n"
     ]
    }
   ],
   "source": [
    "V1 = 8\n",
    "print(\"Variable número entero\",V1)"
   ]
  },
  {
   "cell_type": "markdown",
   "id": "ab7ac09a",
   "metadata": {},
   "source": [
    "2) Imprimir el tipo de dato de la constante 8.5"
   ]
  },
  {
   "cell_type": "code",
   "execution_count": 4,
   "id": "08165399",
   "metadata": {},
   "outputs": [
    {
     "name": "stdout",
     "output_type": "stream",
     "text": [
      "Dato constante 8.5\n"
     ]
    }
   ],
   "source": [
    "C1 = 8.5\n",
    "print(\"Dato constante\", C1)"
   ]
  },
  {
   "cell_type": "markdown",
   "id": "d38235f2",
   "metadata": {},
   "source": [
    "3) Imprimir el tipo de dato de la variable creada en el punto 1"
   ]
  },
  {
   "cell_type": "code",
   "execution_count": 9,
   "id": "cb099875",
   "metadata": {},
   "outputs": [
    {
     "name": "stdout",
     "output_type": "stream",
     "text": [
      "El tipo de variable es: <class 'int'>\n"
     ]
    }
   ],
   "source": [
    "print(\"El tipo de variable es:\",type(V1))"
   ]
  },
  {
   "cell_type": "markdown",
   "id": "ff793559",
   "metadata": {},
   "source": [
    "4) Crear una variable que contenga tu nombre"
   ]
  },
  {
   "cell_type": "code",
   "execution_count": 11,
   "id": "f984e5dc",
   "metadata": {},
   "outputs": [],
   "source": [
    "Nombre = \"Jairo Sánchez\""
   ]
  },
  {
   "cell_type": "markdown",
   "id": "31813fcb",
   "metadata": {},
   "source": [
    "5) Crear una variable que contenga un número complejo"
   ]
  },
  {
   "cell_type": "code",
   "execution_count": 1,
   "id": "17b76bed",
   "metadata": {},
   "outputs": [],
   "source": [
    "Complejo = 1 + 1j"
   ]
  },
  {
   "cell_type": "markdown",
   "id": "ee584e5c",
   "metadata": {},
   "source": [
    "6) Mostrar el tipo de dato de la variable crada en el punto 5"
   ]
  },
  {
   "cell_type": "code",
   "execution_count": 2,
   "id": "f0baa4ce",
   "metadata": {},
   "outputs": [
    {
     "name": "stdout",
     "output_type": "stream",
     "text": [
      "El tipo de variable es <class 'complex'>\n"
     ]
    }
   ],
   "source": [
    "print(\"El tipo de variable es\",type(Complejo))"
   ]
  },
  {
   "cell_type": "markdown",
   "id": "90693662",
   "metadata": {},
   "source": [
    "7) Crear una variable que contenga el valor del número Pi redondeado a 4 decimales"
   ]
  },
  {
   "cell_type": "code",
   "execution_count": 3,
   "id": "122e61bc",
   "metadata": {},
   "outputs": [],
   "source": [
    "# conda install numpy\n",
    "import numpy as np\n",
    "Pi = np.pi\n",
    "Pi = round(Pi,4)"
   ]
  },
  {
   "cell_type": "markdown",
   "id": "bbf332c0",
   "metadata": {},
   "source": [
    "8) Crear una variable que contenga el valor 'True' y otra que contenga el valor True. ¿Se trata de lo mismo?"
   ]
  },
  {
   "cell_type": "code",
   "execution_count": 5,
   "id": "f9623efd",
   "metadata": {},
   "outputs": [
    {
     "name": "stdout",
     "output_type": "stream",
     "text": [
      "El tipo de la primera variable es <class 'str'>\n",
      "El tipo de la segunda variable es <class 'bool'>\n"
     ]
    }
   ],
   "source": [
    "VerdaderoTexto = \"True\"\n",
    "Verdadero = True\n",
    "# No se trata de lo mismo, en el primer caso es una variable tipo \n",
    "# texto o string\n",
    "print(\"El tipo de la primera variable es\",type(VerdaderoTexto))\n",
    "# La segunda es una variable tipo boleana\n",
    "print(\"El tipo de la segunda variable es\",type(Verdadero))"
   ]
  },
  {
   "cell_type": "markdown",
   "id": "842be22a",
   "metadata": {},
   "source": [
    "9) Imprimir el tipo de dato correspondientes a las variables creadas en el punto 8"
   ]
  },
  {
   "cell_type": "code",
   "execution_count": 7,
   "id": "5f9985f4",
   "metadata": {},
   "outputs": [
    {
     "name": "stdout",
     "output_type": "stream",
     "text": [
      "la variable True en formato texto True\n",
      "la variable True en formato Boleano True\n"
     ]
    }
   ],
   "source": [
    "print(\"la variable True en formato texto\", VerdaderoTexto)\n",
    "print(\"la variable True en formato Boleano\", Verdadero)"
   ]
  },
  {
   "cell_type": "markdown",
   "id": "66d0bf35",
   "metadata": {},
   "source": [
    "10) Asignar a una variable, la suma de un número entero y otro decimal"
   ]
  },
  {
   "cell_type": "code",
   "execution_count": 9,
   "id": "7f4abfac",
   "metadata": {},
   "outputs": [
    {
     "name": "stdout",
     "output_type": "stream",
     "text": [
      "la suma de los dos números es 17.4\n"
     ]
    }
   ],
   "source": [
    "Entero = 12\n",
    "Decimal = 5.4\n",
    "Suma = Entero + Decimal\n",
    "print(\"la suma de los dos números es\",Suma)"
   ]
  },
  {
   "cell_type": "markdown",
   "id": "c9255b12",
   "metadata": {},
   "source": [
    "11) Realizar una operación de suma de números complejos"
   ]
  },
  {
   "cell_type": "code",
   "execution_count": 11,
   "id": "5439028f",
   "metadata": {},
   "outputs": [],
   "source": [
    "Complex_1 = 6+1j\n",
    "Complex_2 = -1 + 3j\n",
    "SumaComplejos = Complex_1 + Complex_2"
   ]
  },
  {
   "cell_type": "markdown",
   "id": "6ca7971b",
   "metadata": {},
   "source": [
    "12) Realizar una operación de suma de un número real y otro complejo"
   ]
  },
  {
   "cell_type": "code",
   "execution_count": 12,
   "id": "7adbf5f5",
   "metadata": {},
   "outputs": [],
   "source": [
    "Real = 11.234\n",
    "Complex_3 = -3 + 1j\n",
    "Suma_2 = Real + Complex_3"
   ]
  },
  {
   "cell_type": "markdown",
   "id": "cfe53e73",
   "metadata": {},
   "source": [
    "13) Realizar una operación de multiplicación"
   ]
  },
  {
   "cell_type": "code",
   "execution_count": 13,
   "id": "234772a5",
   "metadata": {},
   "outputs": [],
   "source": [
    "Multiplicacion = Entero * Decimal"
   ]
  },
  {
   "cell_type": "markdown",
   "id": "4fd22038",
   "metadata": {},
   "source": [
    "14) Mostrar el resultado de elevar 2 a la octava potencia"
   ]
  },
  {
   "cell_type": "code",
   "execution_count": 14,
   "id": "2bdac08c",
   "metadata": {},
   "outputs": [],
   "source": [
    "Potencia = 2**8"
   ]
  },
  {
   "cell_type": "markdown",
   "id": "11cb404e",
   "metadata": {},
   "source": [
    "15) Obtener el cociente de la división de 27 entre 4 en una variable y luego mostrarla"
   ]
  },
  {
   "cell_type": "code",
   "execution_count": 19,
   "id": "7983c78e",
   "metadata": {},
   "outputs": [
    {
     "name": "stdout",
     "output_type": "stream",
     "text": [
      "El resultado de la divisón (cociente) de 27 entre 4 es 6.75\n"
     ]
    }
   ],
   "source": [
    "# División\n",
    "Division = 27/4\n",
    "print(\"El resultado de la divisón (cociente) de 27 entre 4 es\", Division)"
   ]
  },
  {
   "cell_type": "markdown",
   "id": "abaf76c6",
   "metadata": {},
   "source": [
    "16) De la división anterior solamente mostrar la parte entera"
   ]
  },
  {
   "cell_type": "code",
   "execution_count": 21,
   "id": "25be87a9",
   "metadata": {},
   "outputs": [
    {
     "name": "stdout",
     "output_type": "stream",
     "text": [
      "La parte entera de la división de 27 entre 4 es 6\n"
     ]
    }
   ],
   "source": [
    "Parte_Entera = 27//4\n",
    "print(\"La parte entera de la división de 27 entre 4 es\", Parte_Entera)"
   ]
  },
  {
   "cell_type": "markdown",
   "id": "020582a4",
   "metadata": {},
   "source": [
    "17) De la división de 27 entre 4 mostrar solamente el resto"
   ]
  },
  {
   "cell_type": "code",
   "execution_count": 23,
   "id": "3edbf0bf",
   "metadata": {},
   "outputs": [
    {
     "name": "stdout",
     "output_type": "stream",
     "text": [
      "El residuo de la división de 27 entre 4 es 3\n"
     ]
    }
   ],
   "source": [
    "# Módulo o residuo\n",
    "Modulo = 27%4\n",
    "print(\"El residuo de la división de 27 entre 4 es\", Modulo)"
   ]
  },
  {
   "cell_type": "markdown",
   "id": "ded05b9c",
   "metadata": {},
   "source": [
    "18) Utilizando como operandos el número 4 y los resultados obtenidos en los puntos 16 y 17. Obtener 27 como resultado"
   ]
  },
  {
   "cell_type": "code",
   "execution_count": 25,
   "id": "d32970ae",
   "metadata": {},
   "outputs": [
    {
     "name": "stdout",
     "output_type": "stream",
     "text": [
      "4 * 6 + 3 = 27\n"
     ]
    }
   ],
   "source": [
    "Resultado = 4 * Parte_Entera + Modulo\n",
    "print(\"4 *\",Parte_Entera,\"+\",Modulo,\"=\",Resultado)"
   ]
  },
  {
   "cell_type": "markdown",
   "id": "2c4b9aa3",
   "metadata": {},
   "source": [
    "19) Utilizar el operador \"+\" en una operación donde intervengan solo variables alfanuméricas"
   ]
  },
  {
   "cell_type": "code",
   "execution_count": 28,
   "id": "9d05ccc9",
   "metadata": {},
   "outputs": [
    {
     "name": "stdout",
     "output_type": "stream",
     "text": [
      "El texto concatenado queda así: Independiente Santa Fe\n"
     ]
    }
   ],
   "source": [
    "Texto_1 = \"Independiente \"\n",
    "Texto_2 = \"Santa Fe\"\n",
    "Texto_3 = Texto_1 + Texto_2\n",
    "print(\"El texto concatenado queda así:\", Texto_3)"
   ]
  },
  {
   "cell_type": "markdown",
   "id": "04e6c6e8",
   "metadata": {},
   "source": [
    "20) Evaluar si \"2\" es igual a 2. ¿Por qué ocurre eso?"
   ]
  },
  {
   "cell_type": "code",
   "execution_count": 34,
   "id": "863f7760",
   "metadata": {},
   "outputs": [
    {
     "name": "stdout",
     "output_type": "stream",
     "text": [
      "La comparación de 2 y 2 es False\n",
      "La primera variable es tipo texto y la segunda es tipo entero\n"
     ]
    }
   ],
   "source": [
    "Dos_1 = \"2\"\n",
    "Dos_2 = 2\n",
    "print(\"La comparación de\",Dos_1,\"y\", Dos_2, \"es\", (Dos_1 == Dos_2))\n",
    "print(\"La primera variable es tipo texto y la segunda es tipo entero\")"
   ]
  },
  {
   "cell_type": "markdown",
   "id": "b33a4bba",
   "metadata": {},
   "source": [
    "21) Utilizar las funciones de cambio de tipo de dato, para que la validación del punto 20 resulte verdadera"
   ]
  },
  {
   "cell_type": "code",
   "execution_count": 35,
   "id": "cbfe6cc7",
   "metadata": {},
   "outputs": [
    {
     "name": "stdout",
     "output_type": "stream",
     "text": [
      "La comparación de 2 y 2 es True\n"
     ]
    }
   ],
   "source": [
    "Dos_1 = int(Dos_1)\n",
    "print(\"La comparación de\",Dos_1,\"y\", Dos_2, \"es\", (Dos_1 == Dos_2))"
   ]
  },
  {
   "cell_type": "markdown",
   "id": "eaa10f86",
   "metadata": {},
   "source": [
    "22) ¿Por qué arroja error el siguiente cambio de tipo de datos? a = float('3,8')"
   ]
  },
  {
   "cell_type": "code",
   "execution_count": 36,
   "id": "3baf5b13",
   "metadata": {},
   "outputs": [
    {
     "ename": "ValueError",
     "evalue": "could not convert string to float: '3,8'",
     "output_type": "error",
     "traceback": [
      "Traceback \u001b[1;36m(most recent call last)\u001b[0m:\n",
      "\u001b[1;36m  Cell \u001b[1;32mIn[36], line 2\u001b[1;36m\n\u001b[1;33m    Dato = float(Dato)\u001b[1;36m\n",
      "\u001b[1;31mValueError\u001b[0m\u001b[1;31m:\u001b[0m could not convert string to float: '3,8'\n"
     ]
    }
   ],
   "source": [
    "Dato = '3,8'\n",
    "Dato = float(Dato)\n",
    "# Genera error debido a que el número está escrito con\n",
    "# coma (,) como separador de decimal y no con punto (.)\n",
    "# De acuerdo a la sintaxis de Python"
   ]
  },
  {
   "cell_type": "markdown",
   "id": "7ed0f19e",
   "metadata": {},
   "source": [
    "23) Crear una variable con el valor 3, y utilizar el operador '-=' para modificar su contenido"
   ]
  },
  {
   "cell_type": "code",
   "execution_count": 41,
   "id": "e2faf8be",
   "metadata": {},
   "outputs": [
    {
     "name": "stdout",
     "output_type": "stream",
     "text": [
      "El valor modificado de la variable iniciada en 3 es de 5\n"
     ]
    }
   ],
   "source": [
    "k = 3\n",
    "k += 2 \n",
    "print(\"El valor modificado de la variable iniciada en 3 es de\",k)"
   ]
  },
  {
   "cell_type": "markdown",
   "id": "7681dafc",
   "metadata": {},
   "source": [
    "24) Realizar la operacion 1 << 2 ¿Por qué da ese resultado? ¿Qué es el sistema de numeración binario?"
   ]
  },
  {
   "cell_type": "code",
   "execution_count": 51,
   "id": "2a625d06",
   "metadata": {},
   "outputs": [
    {
     "data": {
      "text/plain": [
       "12"
      ]
     },
     "execution_count": 51,
     "metadata": {},
     "output_type": "execute_result"
    }
   ],
   "source": [
    "1<<2\n",
    "# El sistema binario es un sistema que solo utiliza dos\n",
    "# cifras (0 y 1, base 2) y es el que usan los computadores\n",
    "# https://realpython.com/python-bitwise-operators/#binary-system-in-five-minutes\n",
    "# Mover el 1 dos posiciones a la izquiera\n",
    "# 1 es 1 (binario), dos posiciones es 100 que en binario es 4\n",
    "# 4>>2 regresa a 1\n",
    "# Otro ejemplo, 13 es 1101, si me regreso una posición (13>>1)\n",
    "# El resultado es 110 que es 6. Si me regreso 2 posiciones (13>>2)\n",
    "# El resultado es 11 que es 3. Si arranco en 3 y aumento (con <<)\n",
    "# 2 posiciones (3<<2) me muevo a 12\n"
   ]
  },
  {
   "cell_type": "markdown",
   "id": "fb15c4fa",
   "metadata": {},
   "source": [
    "25) Realizar la operación 2 + '2' ¿Por qué no está permitido? ¿Si los dos operandos serían del mismo tipo, siempre arrojaría el mismo resultado?"
   ]
  },
  {
   "cell_type": "code",
   "execution_count": 52,
   "id": "2c39ad0a",
   "metadata": {},
   "outputs": [
    {
     "ename": "TypeError",
     "evalue": "unsupported operand type(s) for +: 'int' and 'str'",
     "output_type": "error",
     "traceback": [
      "Traceback \u001b[1;36m(most recent call last)\u001b[0m:\n",
      "\u001b[1;36m  Cell \u001b[1;32mIn[52], line 1\u001b[1;36m\n\u001b[1;33m    2+'2' # No está permitido porque suma entero y cadena\u001b[1;36m\n",
      "\u001b[1;31mTypeError\u001b[0m\u001b[1;31m:\u001b[0m unsupported operand type(s) for +: 'int' and 'str'\n"
     ]
    }
   ],
   "source": [
    "2+'2' # No está permitido porque suma entero y cadena\n",
    "# es decir, son de tipo diferente."
   ]
  },
  {
   "cell_type": "code",
   "execution_count": 53,
   "id": "a2983c49",
   "metadata": {},
   "outputs": [
    {
     "data": {
      "text/plain": [
       "4"
      ]
     },
     "execution_count": 53,
     "metadata": {},
     "output_type": "execute_result"
    }
   ],
   "source": [
    "2+2 # me genera como resultado 4 porque son dos operandos\n",
    "# tipo entero"
   ]
  },
  {
   "cell_type": "code",
   "execution_count": 54,
   "id": "fba80082",
   "metadata": {},
   "outputs": [
    {
     "data": {
      "text/plain": [
       "'22'"
      ]
     },
     "execution_count": 54,
     "metadata": {},
     "output_type": "execute_result"
    }
   ],
   "source": [
    "'2'+'2' # me genera como resultado 22 porque los dos \n",
    "# operandos son cadena y lo que hace es concatenar"
   ]
  },
  {
   "cell_type": "markdown",
   "id": "26e0ab02",
   "metadata": {},
   "source": [
    "26) Realizar una operación válida entre valores de tipo entero y string"
   ]
  },
  {
   "cell_type": "code",
   "execution_count": 55,
   "id": "c6d7d4e1",
   "metadata": {},
   "outputs": [
    {
     "data": {
      "text/plain": [
       "False"
      ]
     },
     "execution_count": 55,
     "metadata": {},
     "output_type": "execute_result"
    }
   ],
   "source": [
    "# Comparo si dos variables son exactas, esto no me genera \n",
    "# Error\n",
    "Entero == Dato"
   ]
  },
  {
   "cell_type": "code",
   "execution_count": 56,
   "id": "62aed6d8",
   "metadata": {},
   "outputs": [
    {
     "data": {
      "text/plain": [
       "True"
      ]
     },
     "execution_count": 56,
     "metadata": {},
     "output_type": "execute_result"
    }
   ],
   "source": [
    "# Comparo si dos variables son diferentes\n",
    "Entero != Dato"
   ]
  }
 ],
 "metadata": {
  "kernelspec": {
   "display_name": "Python 3 (Spyder)",
   "language": "python3",
   "name": "python3"
  },
  "language_info": {
   "codemirror_mode": {
    "name": "ipython",
    "version": 3
   },
   "file_extension": ".py",
   "mimetype": "text/x-python",
   "name": "python",
   "nbconvert_exporter": "python",
   "pygments_lexer": "ipython3",
   "version": "3.10.9"
  }
 },
 "nbformat": 4,
 "nbformat_minor": 5
}

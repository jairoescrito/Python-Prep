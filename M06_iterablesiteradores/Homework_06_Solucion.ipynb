{
 "cells": [
  {
   "cell_type": "markdown",
   "id": "0641553a",
   "metadata": {},
   "source": [
    "1) A partir de una lista vacía, utilizar un ciclo while para cargar allí números negativos del -15 al -1"
   ]
  },
  {
   "cell_type": "code",
   "execution_count": 2,
   "id": "705d4f42",
   "metadata": {},
   "outputs": [
    {
     "data": {
      "text/plain": [
       "[-15, -14, -13, -12, -11, -10, -9, -8, -7, -6, -5, -4, -3, -2, -1]"
      ]
     },
     "execution_count": 2,
     "metadata": {},
     "output_type": "execute_result"
    }
   ],
   "source": [
    "ListaNegativos = []\n",
    "x = -15\n",
    "while x <= -1:\n",
    "    ListaNegativos.append(x)\n",
    "    x += 1\n",
    "ListaNegativos"
   ]
  },
  {
   "cell_type": "markdown",
   "id": "39209b77",
   "metadata": {},
   "source": [
    "2) ¿Con un ciclo while sería posible recorrer la lista para imprimir sólo los números pares?"
   ]
  },
  {
   "cell_type": "code",
   "execution_count": 6,
   "id": "ad7f7d88",
   "metadata": {},
   "outputs": [
    {
     "name": "stdout",
     "output_type": "stream",
     "text": [
      "-14 es un número par\n",
      "-12 es un número par\n",
      "-10 es un número par\n",
      "-8 es un número par\n",
      "-6 es un número par\n",
      "-4 es un número par\n",
      "-2 es un número par\n"
     ]
    }
   ],
   "source": [
    "x = 0\n",
    "while x < len(ListaNegativos):\n",
    "    if ListaNegativos[x] % 2 == 0:\n",
    "        print(ListaNegativos[x], \"es un número par\")\n",
    "    x += 1"
   ]
  },
  {
   "cell_type": "markdown",
   "id": "422902b6",
   "metadata": {},
   "source": [
    "3) Resolver el punto anterior sin utilizar un ciclo while"
   ]
  },
  {
   "cell_type": "code",
   "execution_count": 7,
   "id": "05fd34db",
   "metadata": {},
   "outputs": [
    {
     "name": "stdout",
     "output_type": "stream",
     "text": [
      "-14 es un número par\n",
      "-12 es un número par\n",
      "-10 es un número par\n",
      "-8 es un número par\n",
      "-6 es un número par\n",
      "-4 es un número par\n",
      "-2 es un número par\n"
     ]
    }
   ],
   "source": [
    "for i in ListaNegativos:\n",
    "    if i % 2 == 0:\n",
    "        print(i, \"es un número par\")"
   ]
  },
  {
   "cell_type": "markdown",
   "id": "e44ffe73",
   "metadata": {},
   "source": [
    "4) Utilizar el iterable para recorrer sólo los primeros 3 elementos"
   ]
  },
  {
   "cell_type": "code",
   "execution_count": 8,
   "id": "a9840ad4",
   "metadata": {},
   "outputs": [
    {
     "name": "stdout",
     "output_type": "stream",
     "text": [
      "-15 es el elemento en la posición 0\n",
      "-14 es el elemento en la posición 1\n",
      "-13 es el elemento en la posición 2\n"
     ]
    }
   ],
   "source": [
    "for i in ListaNegativos:\n",
    "    if ListaNegativos.index(i) < 3:\n",
    "        print(i,\"es el elemento en la posición\", ListaNegativos.index(i))\n",
    "    else:\n",
    "        break"
   ]
  },
  {
   "cell_type": "markdown",
   "id": "79a3a183",
   "metadata": {},
   "source": [
    "5) Utilizar la función **enumerate** para obtener dentro del iterable, tambien el índice al que corresponde el elemento"
   ]
  },
  {
   "cell_type": "code",
   "execution_count": 15,
   "id": "0649cfd3",
   "metadata": {},
   "outputs": [
    {
     "name": "stdout",
     "output_type": "stream",
     "text": [
      "El elemento -15 se encuentra en la posición 0\n",
      "El elemento -14 se encuentra en la posición 1\n",
      "El elemento -13 se encuentra en la posición 2\n",
      "El elemento -12 se encuentra en la posición 3\n",
      "El elemento -11 se encuentra en la posición 4\n",
      "El elemento -10 se encuentra en la posición 5\n",
      "El elemento -9 se encuentra en la posición 6\n",
      "El elemento -8 se encuentra en la posición 7\n",
      "El elemento -7 se encuentra en la posición 8\n",
      "El elemento -6 se encuentra en la posición 9\n",
      "El elemento -5 se encuentra en la posición 10\n",
      "El elemento -4 se encuentra en la posición 11\n",
      "El elemento -3 se encuentra en la posición 12\n",
      "El elemento -2 se encuentra en la posición 13\n",
      "El elemento -1 se encuentra en la posición 14\n"
     ]
    }
   ],
   "source": [
    "i = 0\n",
    "while i < len(ListaNegativos):\n",
    "    print(\"El elemento\",(ListaNegativos)[i],\"se encuentra en la posición\",list(enumerate(ListaNegativos))[i][0])\n",
    "    i += 1"
   ]
  },
  {
   "cell_type": "markdown",
   "id": "45c97247",
   "metadata": {},
   "source": [
    "6) Dada la siguiente lista de números enteros entre 1 y 20, crear un ciclo donde se completen los valores faltantes: lista = [1,2,5,7,8,10,13,14,15,17,20]"
   ]
  },
  {
   "cell_type": "code",
   "execution_count": 19,
   "id": "c5f29cd6",
   "metadata": {},
   "outputs": [
    {
     "data": {
      "text/plain": [
       "[1, 2, 3, 4, 5, 6, 7, 8, 9, 10, 11, 12, 13, 14, 15, 16, 17, 18, 19, 20]"
      ]
     },
     "execution_count": 19,
     "metadata": {},
     "output_type": "execute_result"
    }
   ],
   "source": [
    "Lista = [1,2,5,7,8,10,13,14,15,17,20]\n",
    "x = 0\n",
    "while x < len(Lista):\n",
    "    if x == len(Lista)-1:\n",
    "        break\n",
    "    elif Lista[x+1]-Lista[x] > 1:\n",
    "        Lista.insert(x+1,Lista[x]+1)\n",
    "    x += 1\n",
    "Lista"
   ]
  },
  {
   "cell_type": "markdown",
   "id": "f2f19aaf",
   "metadata": {},
   "source": [
    "7) La sucesión de Fibonacci es un listado de números que sigue la fórmula: <br>\n",
    "n<sub>0</sub> = 0<br>\n",
    "n<sub>1</sub> = 1<br>\n",
    "n<sub>i</sub> = n<sub>i-1</sub> + n<sub>i-2</sub><br>\n",
    "Crear una lista con los primeros treinta números de la sucesión.<br>"
   ]
  },
  {
   "cell_type": "code",
   "execution_count": 11,
   "id": "e345898f",
   "metadata": {},
   "outputs": [
    {
     "name": "stdout",
     "output_type": "stream",
     "text": [
      "[0, 1, 1, 2, 3, 5, 8, 13, 21, 34, 55, 89, 144, 233, 377, 610, 987, 1597, 2584, 4181, 6765, 10946, 17711, 28657, 46368, 75025, 121393, 196418, 317811, 514229]\n"
     ]
    }
   ],
   "source": [
    "Fibonacci = []\n",
    "n = 30\n",
    "for x in range(0, n):\n",
    "    if x < 2:\n",
    "        Fibonacci.append(x)\n",
    "    else:\n",
    "        Fibonacci.append(Fibonacci[x-2]+Fibonacci[x-1])\n",
    "print(Fibonacci)"
   ]
  },
  {
   "cell_type": "markdown",
   "id": "78ffa269",
   "metadata": {},
   "source": [
    "8) Realizar la suma de todos elementos de la lista del punto anterior"
   ]
  },
  {
   "cell_type": "code",
   "execution_count": 12,
   "id": "05671dd2",
   "metadata": {},
   "outputs": [
    {
     "name": "stdout",
     "output_type": "stream",
     "text": [
      "la suma de los primeros 30 numeros de la serie Fibonacci es: 1346268\n"
     ]
    }
   ],
   "source": [
    "print(\"la suma de los primeros\",n, \"numeros de la serie Fibonacci es:\",sum(Fibonacci))"
   ]
  },
  {
   "cell_type": "markdown",
   "id": "14ab59c0",
   "metadata": {},
   "source": [
    "9) La proporción aurea se expresa con una proporción matemática que nace el número irracional Phi= 1,618… que los griegos llamaron número áureo. El cuál se puede aproximar con la sucesión de Fibonacci. Con la lista del ejercicio anterior, imprimir el cociente de los últimos 5 pares de dos números contiguos:<br>\n",
    "Donde i es la cantidad total de elementos<br>\n",
    "n<sub>i-1</sub> / n<sub>i</sub><br>\n",
    "n<sub>i-2</sub> / n<sub>i-1</sub><br>\n",
    "n<sub>i-3</sub> / n<sub>i-2</sub><br>\n",
    "n<sub>i-4</sub> / n<sub>i-3</sub><br>\n",
    "n<sub>i-5</sub> / n<sub>i-4</sub><br>"
   ]
  },
  {
   "cell_type": "code",
   "execution_count": 18,
   "id": "b4c86294",
   "metadata": {},
   "outputs": [
    {
     "name": "stdout",
     "output_type": "stream",
     "text": [
      "El resultado de la división del número 514229 (que está en la posición 29 de la lista), entre el número 317811 (que está en la posición 28 de la lista) es: 1.618\n",
      "El resultado de la división del número 317811 (que está en la posición 28 de la lista), entre el número 196418 (que está en la posición 27 de la lista) es: 1.618\n",
      "El resultado de la división del número 196418 (que está en la posición 27 de la lista), entre el número 121393 (que está en la posición 26 de la lista) es: 1.618\n",
      "El resultado de la división del número 121393 (que está en la posición 26 de la lista), entre el número 75025 (que está en la posición 25 de la lista) es: 1.618\n",
      "El resultado de la división del número 75025 (que está en la posición 25 de la lista), entre el número 46368 (que está en la posición 24 de la lista) es: 1.618\n",
      "El resultado de la división del número 46368 (que está en la posición 24 de la lista), entre el número 28657 (que está en la posición 23 de la lista) es: 1.618\n"
     ]
    }
   ],
   "source": [
    "largo=len(Fibonacci)\n",
    "i = 30\n",
    "while i >= (largo - 5):\n",
    "    print(\"El resultado de la división del número\",Fibonacci[i-1],\"(que está en la posición\",i-1,\"de la lista), entre el número\",\n",
    "    Fibonacci[i-2], \"(que está en la posición\",i-2,\"de la lista) es:\" , round(Fibonacci[i-1]/Fibonacci[i-2],4))\n",
    "    i -= 1\n",
    "    "
   ]
  },
  {
   "cell_type": "markdown",
   "id": "0f55b603",
   "metadata": {},
   "source": [
    "10) A partir de la variable cadena ya dada, mostrar en qué posiciones aparece la letra \"n\"<br>\n",
    "cadena = 'Hola Mundo. Esto es una practica del lenguaje de programación Python'"
   ]
  },
  {
   "cell_type": "code",
   "execution_count": 23,
   "id": "ff110a24",
   "metadata": {},
   "outputs": [
    {
     "data": {
      "text/plain": [
       "[7, 21, 39, 60, 67]"
      ]
     },
     "execution_count": 23,
     "metadata": {},
     "output_type": "execute_result"
    }
   ],
   "source": [
    "cadena = 'Hola Mundo. Esto es una practica del lenguaje de programación Python'\n",
    "[i for i, x in enumerate(cadena) if x == \"n\"]"
   ]
  },
  {
   "cell_type": "markdown",
   "id": "bc36e7b3",
   "metadata": {},
   "source": [
    "11) Crear un diccionario e imprimir sus claves utilizando un iterador"
   ]
  },
  {
   "cell_type": "code",
   "execution_count": 3,
   "id": "468e7ffd",
   "metadata": {},
   "outputs": [
    {
     "name": "stdout",
     "output_type": "stream",
     "text": [
      "La clave número 1 del diccionario es: Ciudad\n",
      "La clave número 2 del diccionario es: País\n",
      "La clave número 3 del diccionario es: Continente\n"
     ]
    }
   ],
   "source": [
    "Ciudades = [\"Bogotá\",\"Quito\",\"Lima\",\"La Paz\",\"Santiago de Chile\", \"Buenos Aires\", \"Montevideo\",\"Asunción\",\"Brasilia\",\"Caracas\"]\n",
    "Paises = [\"Colombia\",\"Ecuador\",\"Perú\",\"Bolivia\",\"Chile\",\"Argentina\",\"Uruguay\",\"Paraguay\",\"Brasil\",\"Venezuela\"]\n",
    "Diccionario = {\"Ciudad\":Ciudades,\"País\": Paises,\"Continente\":[\"Sur América\"]*10}\n",
    "Claves = list(Diccionario.keys())\n",
    "n = 1\n",
    "for k in Claves:\n",
    "    print(\"La clave número\", n, \"del diccionario es:\",k)\n",
    "    n +=1"
   ]
  },
  {
   "cell_type": "markdown",
   "id": "a746184e",
   "metadata": {},
   "source": [
    "12) Convertir en una lista la variable \"cadena\" del punto 10 y luego recorrerla con un iterador"
   ]
  },
  {
   "cell_type": "code",
   "execution_count": 5,
   "id": "89eb7227",
   "metadata": {},
   "outputs": [
    {
     "name": "stdout",
     "output_type": "stream",
     "text": [
      "H\n",
      "o\n",
      "l\n",
      "a\n",
      " \n",
      "M\n",
      "u\n",
      "n\n",
      "d\n",
      "o\n",
      ".\n",
      " \n",
      "E\n",
      "s\n",
      "t\n",
      "o\n",
      " \n",
      "e\n",
      "s\n",
      " \n",
      "u\n",
      "n\n",
      "a\n",
      " \n",
      "p\n",
      "r\n",
      "a\n",
      "c\n",
      "t\n",
      "i\n",
      "c\n",
      "a\n",
      " \n",
      "d\n",
      "e\n",
      "l\n",
      " \n",
      "l\n",
      "e\n",
      "n\n",
      "g\n",
      "u\n",
      "a\n",
      "j\n",
      "e\n",
      " \n",
      "d\n",
      "e\n",
      " \n",
      "p\n",
      "r\n",
      "o\n",
      "g\n",
      "r\n",
      "a\n",
      "m\n",
      "a\n",
      "c\n",
      "i\n",
      "ó\n",
      "n\n",
      " \n",
      "P\n",
      "y\n",
      "t\n",
      "h\n",
      "o\n",
      "n\n"
     ]
    }
   ],
   "source": [
    "cadena = 'Hola Mundo. Esto es una practica del lenguaje de programación Python'\n",
    "CadenaLista = list(cadena)\n",
    "CadenaLista\n",
    "for l in CadenaLista:\n",
    "    print(l)"
   ]
  },
  {
   "cell_type": "markdown",
   "id": "9970dd21",
   "metadata": {},
   "source": [
    "13) Crear dos listas y unirlas en una tupla utilizando la función zip"
   ]
  },
  {
   "cell_type": "code",
   "execution_count": 8,
   "id": "271d858a",
   "metadata": {},
   "outputs": [
    {
     "data": {
      "text/plain": [
       "[('e', 1), ('d', 2), ('c', 3), ('b', 4), ('a', 5)]"
      ]
     },
     "execution_count": 8,
     "metadata": {},
     "output_type": "execute_result"
    }
   ],
   "source": [
    "Lista_1 = [\"e\",\"d\",\"c\",\"b\",\"a\"]\n",
    "Lista_2 = [1,2,3,4,5]\n",
    "Tupla = zip(Lista_1,Lista_2)\n",
    "list(Tupla)"
   ]
  },
  {
   "cell_type": "markdown",
   "id": "b88cc041",
   "metadata": {},
   "source": [
    "14) A partir de la siguiente lista de números, crear una nueva sólo si el número es divisible por 7<br>\n",
    "lis = [18,21,29,32,35,42,56,60,63,71,84,90,91,100]"
   ]
  },
  {
   "cell_type": "code",
   "execution_count": 9,
   "id": "d0f9eb3e",
   "metadata": {},
   "outputs": [
    {
     "data": {
      "text/plain": [
       "[21, 35, 42, 56, 63, 84, 91]"
      ]
     },
     "execution_count": 9,
     "metadata": {},
     "output_type": "execute_result"
    }
   ],
   "source": [
    "lis = [18,21,29,32,35,42,56,60,63,71,84,90,91,100]\n",
    "Div7 = []\n",
    "for i in lis:\n",
    "    if i%7 == 0:\n",
    "        Div7.append(i)\n",
    "Div7"
   ]
  },
  {
   "cell_type": "markdown",
   "id": "7158d599",
   "metadata": {},
   "source": [
    "15) A partir de la lista de a continuación, contar la cantidad total de elementos que contiene, teniendo en cuenta que un elemento de la lista podría ser otra lista:<br>\n",
    "lis = [[1,2,3,4],'rojo','verde',[True,False,False],['uno','dos','tres']]"
   ]
  },
  {
   "cell_type": "code",
   "execution_count": 19,
   "id": "e8b2e2ee",
   "metadata": {},
   "outputs": [
    {
     "data": {
      "text/plain": [
       "12"
      ]
     },
     "execution_count": 19,
     "metadata": {},
     "output_type": "execute_result"
    }
   ],
   "source": [
    "lis = [[1,2,3,4],'rojo','verde',[True,False,False],['uno','dos','tres']]\n",
    "Cantidad = 0\n",
    "for k in lis:\n",
    "    if type(k) == list:\n",
    "        Cantidad = Cantidad + len(k)\n",
    "    else:\n",
    "        Cantidad += 1\n",
    "Cantidad"
   ]
  },
  {
   "cell_type": "markdown",
   "id": "9f401b45",
   "metadata": {},
   "source": [
    "16) Tomar la lista del punto anterior y convertir cada elemento en una lista si no lo es"
   ]
  },
  {
   "cell_type": "code",
   "execution_count": 24,
   "id": "a51f2d2f",
   "metadata": {},
   "outputs": [
    {
     "data": {
      "text/plain": [
       "[[1, 2, 3, 4],\n",
       " ['rojo'],\n",
       " ['verde'],\n",
       " [True, False, False],\n",
       " ['uno', 'dos', 'tres']]"
      ]
     },
     "execution_count": 24,
     "metadata": {},
     "output_type": "execute_result"
    }
   ],
   "source": [
    "lis = [[1,2,3,4],'rojo','verde',[True,False,False],['uno','dos','tres']]\n",
    "i = 0\n",
    "while i < len(lis):\n",
    "    if type(lis[i]) != list:\n",
    "        x = lis[i]\n",
    "        lis[i] = [x]\n",
    "    i += 1\n",
    "lis"
   ]
  }
 ],
 "metadata": {
  "kernelspec": {
   "display_name": "Python 3 (Spyder)",
   "language": "python3",
   "name": "python3"
  },
  "language_info": {
   "codemirror_mode": {
    "name": "ipython",
    "version": 3
   },
   "file_extension": ".py",
   "mimetype": "text/x-python",
   "name": "python",
   "nbconvert_exporter": "python",
   "pygments_lexer": "ipython3",
   "version": "3.10.9"
  }
 },
 "nbformat": 4,
 "nbformat_minor": 5
}

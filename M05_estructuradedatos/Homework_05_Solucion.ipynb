{
 "cells": [
  {
   "cell_type": "markdown",
   "id": "b50c2656",
   "metadata": {},
   "source": [
    "1) Crear una lista que contenga nombres de ciudades del mundo que contenga más de 5 elementos e imprimir por pantalla"
   ]
  },
  {
   "cell_type": "code",
   "execution_count": null,
   "id": "314dbf5d",
   "metadata": {},
   "outputs": [],
   "source": [
    "Ciudades = [\"Bogotá\",\"Quito\",\"Lima\",\"La Paz\",\"Santiago de Chile\", \"Buenos Aires\", \"Montevideo\",\"Asunción\",\"Brasilia\",\"Caracas\"]\n",
    "print(\"La lista de ciudades es:\",Ciudades)"
   ]
  },
  {
   "cell_type": "markdown",
   "id": "61a59c7b",
   "metadata": {},
   "source": [
    "2) Imprimir por pantalla el segundo elemento de la lista"
   ]
  },
  {
   "cell_type": "code",
   "execution_count": null,
   "id": "8153876a",
   "metadata": {},
   "outputs": [],
   "source": [
    "print(\"El segundo elemento de la lista de ciudades es:\",Ciudades[1])"
   ]
  },
  {
   "cell_type": "markdown",
   "id": "40588bdb",
   "metadata": {},
   "source": [
    "3) Imprimir por pantalla del segundo al cuarto elemento"
   ]
  },
  {
   "cell_type": "code",
   "execution_count": null,
   "id": "6cfe8122",
   "metadata": {},
   "outputs": [],
   "source": [
    "print(\"El segundo, tercer y cuarto elemento de la lista de ciudades son:\",Ciudades[1:4])"
   ]
  },
  {
   "cell_type": "markdown",
   "id": "fd721b0b",
   "metadata": {},
   "source": [
    "4) Visualizar el tipo de dato de la lista"
   ]
  },
  {
   "cell_type": "code",
   "execution_count": null,
   "id": "04118277",
   "metadata": {},
   "outputs": [],
   "source": [
    "type(Ciudades)"
   ]
  },
  {
   "cell_type": "markdown",
   "id": "61b47b6b",
   "metadata": {},
   "source": [
    "5) Visualizar todos los elementos de la lista a partir del tercero de manera genérica, es decir, sin explicitar la posición del último elemento"
   ]
  },
  {
   "cell_type": "code",
   "execution_count": null,
   "id": "29c76f70",
   "metadata": {},
   "outputs": [],
   "source": [
    "print(\"Los elementos de la lista de ciudades a partir del tercer elemento son:\",Ciudades[2:])"
   ]
  },
  {
   "cell_type": "markdown",
   "id": "a47d8c9a",
   "metadata": {},
   "source": [
    "6) Visualizar los primeros 4 elementos de la lista"
   ]
  },
  {
   "cell_type": "code",
   "execution_count": null,
   "id": "85ba62d8",
   "metadata": {},
   "outputs": [],
   "source": [
    "print(\"Los 4 primeros elementos de la lista de ciudades son:\",Ciudades[:4])"
   ]
  },
  {
   "cell_type": "markdown",
   "id": "fd884ef5",
   "metadata": {},
   "source": [
    "7) Agregar una ciudad más a la lista que ya exista y otra que no ¿Arroja algún tipo de error?"
   ]
  },
  {
   "cell_type": "code",
   "execution_count": null,
   "id": "65a1c513",
   "metadata": {},
   "outputs": [],
   "source": [
    "Ciudades.append(\"Bogotá\")\n",
    "Ciudades.append(\"Ciudad de Panamá\")\n",
    "# No genera ningún error"
   ]
  },
  {
   "cell_type": "markdown",
   "id": "d7cc342a",
   "metadata": {},
   "source": [
    "8) Agregar otra ciudad, pero en la cuarta posición"
   ]
  },
  {
   "cell_type": "code",
   "execution_count": null,
   "id": "4a2c5a6a",
   "metadata": {},
   "outputs": [],
   "source": [
    "Ciudades.insert(3,\"Ciudad de México\")"
   ]
  },
  {
   "cell_type": "markdown",
   "id": "430cb662",
   "metadata": {},
   "source": [
    "9) Concatenar otra lista a la ya creada"
   ]
  },
  {
   "cell_type": "code",
   "execution_count": null,
   "id": "4b846b02",
   "metadata": {},
   "outputs": [],
   "source": [
    "Paises = [\"Colombia\",\"Ecuador\",\"Perú\",\"Bolivia\",\"Chile\",\"Argentina\",\"Uruguay\",\"Paraguay\",\"Brasil\",\"Venezuela\"]"
   ]
  },
  {
   "cell_type": "code",
   "execution_count": null,
   "id": "e7866549",
   "metadata": {},
   "outputs": [],
   "source": [
    "ListaExtendida = Ciudades + Paises\n",
    "ListaExtendida"
   ]
  },
  {
   "cell_type": "markdown",
   "id": "55bab106",
   "metadata": {},
   "source": [
    "10) Encontrar el índice de la ciudad que en el punto 7 agregamos duplicada. ¿Se nota alguna particularidad?"
   ]
  },
  {
   "cell_type": "code",
   "execution_count": null,
   "id": "cca353e4",
   "metadata": {},
   "outputs": [],
   "source": [
    "Indice = Ciudades.index(\"Bogotá\")\n",
    "Indice\n",
    "#Entrega el índice donde primero encuentra la ciudad repetida (índice de la primera conincidencia)"
   ]
  },
  {
   "cell_type": "markdown",
   "id": "5be08943",
   "metadata": {},
   "source": [
    "11) ¿Qué pasa si se busca un elemento que no existe?"
   ]
  },
  {
   "cell_type": "code",
   "execution_count": null,
   "id": "0ad98904",
   "metadata": {},
   "outputs": [],
   "source": [
    "Index = Ciudades.index(\"Londres\")\n",
    "Index\n",
    "# Genera un error mencionando que el elemento buscado no está en la lista"
   ]
  },
  {
   "cell_type": "markdown",
   "id": "61d95c65",
   "metadata": {},
   "source": [
    "12) Eliminar un elemento de la lista"
   ]
  },
  {
   "cell_type": "code",
   "execution_count": null,
   "id": "4e1c5cdb",
   "metadata": {},
   "outputs": [],
   "source": [
    "Ciudades.pop(10)"
   ]
  },
  {
   "cell_type": "markdown",
   "id": "48327529",
   "metadata": {},
   "source": [
    "13) ¿Qué pasa si el elemento a eliminar no existe?"
   ]
  },
  {
   "cell_type": "code",
   "execution_count": null,
   "id": "b7cd5bc4",
   "metadata": {},
   "outputs": [],
   "source": [
    "Ciudades.remove(\"Londres\")\n",
    "# Genera un erroe que menciona que el elemento no está en la lista"
   ]
  },
  {
   "cell_type": "markdown",
   "id": "d622253b",
   "metadata": {},
   "source": [
    "14) Extraer el úlimo elemento de la lista, guardarlo en una variable e imprimirlo"
   ]
  },
  {
   "cell_type": "code",
   "execution_count": null,
   "id": "6ca06588",
   "metadata": {},
   "outputs": [],
   "source": [
    "Ciudad = Ciudades.pop()\n",
    "print(\"El último elemento de la lista ciudades que se guardo en una nueva variable es:\",Ciudad)"
   ]
  },
  {
   "cell_type": "markdown",
   "id": "206c663f",
   "metadata": {},
   "source": [
    "15) Mostrar la lista multiplicada por 4"
   ]
  },
  {
   "cell_type": "code",
   "execution_count": null,
   "id": "efb03cfc",
   "metadata": {},
   "outputs": [],
   "source": [
    "print(Ciudades * 4)"
   ]
  },
  {
   "cell_type": "markdown",
   "id": "4e57cdca",
   "metadata": {},
   "source": [
    "16) Crear una tupla que contenga los números enteros del 1 al 20"
   ]
  },
  {
   "cell_type": "code",
   "execution_count": null,
   "id": "242cf8f1",
   "metadata": {},
   "outputs": [],
   "source": [
    "Numeros = tuple(range(1,21))"
   ]
  },
  {
   "cell_type": "markdown",
   "id": "f4532ad9",
   "metadata": {},
   "source": [
    "17) Imprimir desde el índice 10 al 15 de la tupla"
   ]
  },
  {
   "cell_type": "code",
   "execution_count": null,
   "id": "2b68f43c",
   "metadata": {},
   "outputs": [],
   "source": [
    "print(\"los elementos 10 al 15 de la tupla de números son\", Numeros[10:16])"
   ]
  },
  {
   "cell_type": "markdown",
   "id": "fb383e14",
   "metadata": {},
   "source": [
    "18) Evaluar si los números 20 y 30 están dentro de la tupla"
   ]
  },
  {
   "cell_type": "code",
   "execution_count": null,
   "id": "8f3e2019",
   "metadata": {},
   "outputs": [],
   "source": [
    "Dato = 20\n",
    "while Dato<= 30:\n",
    "    Rta = Dato in Numeros\n",
    "    if Rta == True:\n",
    "        print(\"El número\", Dato, \"si está en la tupla\")\n",
    "    else:\n",
    "        print(\"El número\", Dato, \"no está en la tupla\")\n",
    "    Dato += 10"
   ]
  },
  {
   "cell_type": "markdown",
   "id": "19b6095f",
   "metadata": {},
   "source": [
    "19) Con la lista creada en el punto 1, validar la existencia del elemento 'París' y si no existe, agregarlo. Utilizar una variable e informar lo sucedido."
   ]
  },
  {
   "cell_type": "code",
   "execution_count": null,
   "id": "1282dfc4",
   "metadata": {},
   "outputs": [],
   "source": [
    "Consulta = \"Paris\" in Ciudades\n",
    "if Consulta == False:\n",
    "    Ciudades.append(\"Paris\")\n",
    "else:\n",
    "    print(\"Paris ya está en la lista\")"
   ]
  },
  {
   "cell_type": "markdown",
   "id": "47d80fa7",
   "metadata": {},
   "source": [
    "20) Mostrar la cantidad de veces que se encuentra un elemento específico dentro de la tupla y de la lista"
   ]
  },
  {
   "cell_type": "code",
   "execution_count": null,
   "id": "1d7e7ff4",
   "metadata": {},
   "outputs": [],
   "source": [
    "Numeros_2 = Numeros * 2\n",
    "Ciudades_2 = Ciudades * 3"
   ]
  },
  {
   "cell_type": "code",
   "execution_count": null,
   "id": "20fbd7f3",
   "metadata": {},
   "outputs": [],
   "source": [
    "# En una tupla\n",
    "Contador = 0\n",
    "DatoContar = 12\n",
    "for i in Numeros_2:\n",
    "    if (DatoContar == i ):\n",
    "        Contador += 1\n",
    "    else:\n",
    "        continue\n",
    "print(\"El elemento\",DatoContar,\"se encuentra en la tupla\",Contador,\"veces\")\n",
    "\n",
    "# En una lista\n",
    "Counter = 0\n",
    "DatoConteo = \"Bogotá\"\n",
    "for i in Ciudades_2:\n",
    "    if (DatoConteo == i ):\n",
    "        Counter += 1\n",
    "    else:\n",
    "        continue\n",
    "print(\"El elemento\",DatoConteo,\"se encuentra en la lista\",Counter,\"veces\")"
   ]
  },
  {
   "cell_type": "markdown",
   "id": "4bf03288",
   "metadata": {},
   "source": [
    "21) Convertir la tupla en una lista"
   ]
  },
  {
   "cell_type": "code",
   "execution_count": null,
   "id": "11acfbaf",
   "metadata": {},
   "outputs": [],
   "source": [
    "NumerosLista = list(Numeros)"
   ]
  },
  {
   "cell_type": "markdown",
   "id": "c524bd16",
   "metadata": {},
   "source": [
    "22) Desempaquetar solo los primeros 3 elementos de la tupla en 3 variables"
   ]
  },
  {
   "cell_type": "code",
   "execution_count": null,
   "id": "da0ec1e9",
   "metadata": {},
   "outputs": [],
   "source": [
    "V1,V2,V3=Numeros[:3]"
   ]
  },
  {
   "cell_type": "markdown",
   "id": "55cc6315",
   "metadata": {},
   "source": [
    "23) Crear un diccionario utilizando la lista crada en el punto 1, asignandole la clave \"ciudad\". Agregar tambien otras claves, como puede ser \"Pais\" y \"Continente\"."
   ]
  },
  {
   "cell_type": "code",
   "execution_count": null,
   "id": "387a438f",
   "metadata": {},
   "outputs": [],
   "source": [
    "Diccionario = {\"Ciudad\":Ciudades,\"País\": Paises,\"Continente\":[\"Sur América\"]*10}\n",
    "Diccionario"
   ]
  },
  {
   "cell_type": "markdown",
   "id": "a705b1ce",
   "metadata": {},
   "source": [
    "24) Imprimir las claves del diccionario"
   ]
  },
  {
   "cell_type": "code",
   "execution_count": null,
   "id": "f703dc72",
   "metadata": {},
   "outputs": [],
   "source": [
    "Diccionario.keys()"
   ]
  },
  {
   "cell_type": "markdown",
   "id": "0f123723",
   "metadata": {},
   "source": [
    "25) Imprimir las ciudades a través de su clave"
   ]
  },
  {
   "cell_type": "code",
   "execution_count": null,
   "id": "2dd1120b",
   "metadata": {},
   "outputs": [],
   "source": [
    "Diccionario[\"Ciudad\"]"
   ]
  }
 ],
 "metadata": {
  "kernelspec": {
   "display_name": "Python 3 (ipykernel)",
   "language": "python",
   "name": "python3"
  },
  "language_info": {
   "codemirror_mode": {
    "name": "ipython",
    "version": 3
   },
   "file_extension": ".py",
   "mimetype": "text/x-python",
   "name": "python",
   "nbconvert_exporter": "python",
   "pygments_lexer": "ipython3",
   "version": "3.10.9"
  }
 },
 "nbformat": 4,
 "nbformat_minor": 5
}

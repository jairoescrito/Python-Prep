{
 "cells": [
  {
   "cell_type": "markdown",
   "id": "3b56d996",
   "metadata": {},
   "source": [
    "## Flujos de Control"
   ]
  },
  {
   "cell_type": "markdown",
   "id": "53afd596",
   "metadata": {},
   "source": [
    "1) Crear una variable que contenga un elemento del conjunto de números enteros y luego imprimir por pantalla si es mayor o menor a cero"
   ]
  },
  {
   "cell_type": "code",
   "execution_count": null,
   "id": "f3649e6b",
   "metadata": {},
   "outputs": [],
   "source": [
    "Num = -16\n",
    "if (Num>0):\n",
    "    print(\"El número\",Num,\"es mayor a cero\")\n",
    "elif (Num<0):\n",
    "    print(\"El número\",Num,\"es menor a cero\")\n",
    "else:\n",
    "    print(\"El número es cero\")"
   ]
  },
  {
   "cell_type": "markdown",
   "id": "ead4903f",
   "metadata": {},
   "source": [
    "2) Crear dos variables y un condicional que informe si son del mismo tipo de dato"
   ]
  },
  {
   "cell_type": "code",
   "execution_count": null,
   "id": "b5d464a4",
   "metadata": {},
   "outputs": [],
   "source": [
    "Var1 = \"Texto\"\n",
    "Var2 =  2.5\n",
    "if (type(Var1) == type(Var2)):\n",
    "    print(\"las dos variables son de la misma clase\",type(Var1),\"y\",type(Var2))\n",
    "else:\n",
    "    print(\"las dos variables no son de la misma clase\",type(Var1),\"y\",type(Var2))"
   ]
  },
  {
   "cell_type": "markdown",
   "id": "d2d81308",
   "metadata": {},
   "source": [
    "3) Para los valores enteros del 1 al 20, imprimir por pantalla si es par o impar"
   ]
  },
  {
   "cell_type": "code",
   "execution_count": null,
   "id": "f3310efb",
   "metadata": {},
   "outputs": [],
   "source": [
    "i = 1\n",
    "while (i <= 20):\n",
    "    if ( i % 2 == 0):\n",
    "        print(\"el número\",i,\"es par\")\n",
    "    else:\n",
    "        print(\"el número\",i,\"es impar\")\n",
    "    i +=1"
   ]
  },
  {
   "cell_type": "markdown",
   "id": "8a3e6ee2",
   "metadata": {},
   "source": [
    "4) En un ciclo for mostrar para los valores entre 0 y 5 el resultado de elevarlo a la potencia igual a 3"
   ]
  },
  {
   "cell_type": "code",
   "execution_count": null,
   "id": "157db2bc",
   "metadata": {},
   "outputs": [],
   "source": [
    "for n in range (0,6):\n",
    "    print(\"el número\", n, \"elevado a la 3 es\",n**3)"
   ]
  },
  {
   "cell_type": "markdown",
   "id": "6163dc09",
   "metadata": {},
   "source": [
    "5) Crear una variable que contenga un número entero y realizar un ciclo for la misma cantidad de ciclos"
   ]
  },
  {
   "cell_type": "code",
   "execution_count": null,
   "id": "63b5979b",
   "metadata": {},
   "outputs": [],
   "source": [
    "j = 8\n",
    "x = 0\n",
    "for x in range(0,j):\n",
    "    print(\"iteración\",x+1,\"de\",j,\"del ciclo for\")"
   ]
  },
  {
   "cell_type": "markdown",
   "id": "5e1bb4ad",
   "metadata": {},
   "source": [
    "6) Utilizar un ciclo while para realizar el factorial de un número guardado en una variable, sólo si la variable contiene un número entero mayor a 0"
   ]
  },
  {
   "cell_type": "code",
   "execution_count": null,
   "id": "62e202cb",
   "metadata": {},
   "outputs": [],
   "source": [
    "N = 6\n",
    "Factorial = 1\n",
    "if Numero <= 0:\n",
    "    print(\"El factorial de un número que no es mayor a cero no es calculable\")\n",
    "elif type(Numero) != int:\n",
    "    print(\"El dato no es un número entero\")\n",
    "else:\n",
    "    Numero = N\n",
    "    while (Numero > 1):\n",
    "        Factorial = Factorial * Numero\n",
    "        Numero = Numero -1\n",
    "    print(\"el factorial de\",N,\"es\",Factorial)"
   ]
  },
  {
   "cell_type": "markdown",
   "id": "417575f2",
   "metadata": {},
   "source": [
    "7) Crear un ciclo for dentro de un ciclo while"
   ]
  },
  {
   "cell_type": "code",
   "execution_count": null,
   "id": "a6d43377",
   "metadata": {},
   "outputs": [],
   "source": [
    "Nro = 3\n",
    "i = 1\n",
    "while i<=Nro:\n",
    "    for j in range(i,Nro+1):\n",
    "        print(\"Ciclo while\",i,\"en el número del for\",j)\n",
    "    i += 1"
   ]
  },
  {
   "cell_type": "markdown",
   "id": "35b8d2a4",
   "metadata": {},
   "source": [
    "8) Crear un ciclo while dentro de un ciclo for"
   ]
  },
  {
   "cell_type": "code",
   "execution_count": null,
   "id": "d4991221",
   "metadata": {},
   "outputs": [],
   "source": [
    "Nro = 3\n",
    "for i in range (0,Nro):\n",
    "    j = i\n",
    "    while j < Nro:\n",
    "        print(\"Ciclo for\",i+1,\"en el número del while\",j+1)\n",
    "        j += 1\n",
    "    print(j)"
   ]
  },
  {
   "cell_type": "markdown",
   "id": "33cb8158",
   "metadata": {},
   "source": [
    "9) Imprimir los números primos existentes entre 0 y 30"
   ]
  },
  {
   "cell_type": "code",
   "execution_count": null,
   "id": "27772d15",
   "metadata": {},
   "outputs": [],
   "source": [
    "# Número primo divisible el mismo únicamente\n",
    "Fin = 30\n",
    "for x in range (2,Fin+1):\n",
    "    if x == 2:\n",
    "        print(x, \"es un número primo\")\n",
    "    else:\n",
    "        Divisor = 2\n",
    "        PrimoSi = 0\n",
    "        while Divisor < x:\n",
    "            if x % Divisor == 0:\n",
    "                PrimoSi += 1\n",
    "            Divisor += 1\n",
    "        if PrimoSi == 0:\n",
    "            print(x, \"es un número primo\")"
   ]
  },
  {
   "cell_type": "markdown",
   "id": "17be95fb",
   "metadata": {},
   "source": [
    "10) ¿Se puede mejorar el proceso del punto 9? Utilizar las sentencias break y/ó continue para tal fin"
   ]
  },
  {
   "cell_type": "code",
   "execution_count": null,
   "id": "da75bf51",
   "metadata": {},
   "outputs": [],
   "source": [
    "Fin = 30\n",
    "for x in range (2,Fin+1):\n",
    "    if x == 2:\n",
    "        print(x, \"es un número primo\")\n",
    "    else:\n",
    "        Divisor = 2\n",
    "        while Divisor < x:\n",
    "            if x % Divisor == 0:\n",
    "                break\n",
    "            elif Divisor == x-1:\n",
    "                print(x, \"es un número primo\")\n",
    "            Divisor += 1"
   ]
  },
  {
   "cell_type": "markdown",
   "id": "85acab80",
   "metadata": {},
   "source": [
    "11) En los puntos 9 y 10, se diseño un código que encuentra números primos y además se lo optimizó. ¿Es posible saber en qué medida se optimizó?\n",
    "a) Por la cantidad de ciclos que debe hacer\n",
    "(9) lo repite x-1 veces\n",
    "(10) aborta el ciclo apenas encuentra el primer modulo = 0\n",
    "b) o por número de variables usadas (uso de memoria)\n",
    "(9) 4 variables\n",
    "(10) 3 variables"
   ]
  },
  {
   "cell_type": "code",
   "execution_count": null,
   "id": "c76d2cb1",
   "metadata": {},
   "outputs": [],
   "source": [
    "# Sin break\n",
    "Fin = 30\n",
    "ContadorNB = 0\n",
    "for x in range (2,Fin+1):\n",
    "    if x == 2:\n",
    "        print(x, \"es un número primo\")\n",
    "    else:\n",
    "        Divisor = 2\n",
    "        PrimoSi = 0\n",
    "        while Divisor < x:\n",
    "            ContadorNB += 1\n",
    "            if x % Divisor == 0:\n",
    "                PrimoSi += 1\n",
    "            Divisor += 1\n",
    "        if PrimoSi == 0:\n",
    "            print(x, \"es un número primo\")\n",
    "print(\"La cantidad de ciclos sin Break fue de \",ContadorNB)\n",
    "\n",
    "# Con break\n",
    "Fin = 30\n",
    "ContadorCB = 0\n",
    "for x in range (2,Fin+1):\n",
    "    if x == 2:\n",
    "        print(x, \"es un número primo\")\n",
    "    else:\n",
    "        Divisor = 2\n",
    "        while Divisor < x:\n",
    "            ContadorCB += 1\n",
    "            if x % Divisor == 0:\n",
    "                break\n",
    "            elif Divisor == x-1:\n",
    "                print(x, \"es un número primo\")\n",
    "            Divisor += 1\n",
    "print(\"La cantidad de ciclos con Break fue de \",ContadorCB)\n",
    "\n",
    "print(\"El nivel de optimización fue de\",round((ContadorCB/ContadorNB)*100,2),\"%\")"
   ]
  },
  {
   "cell_type": "markdown",
   "id": "17745699",
   "metadata": {},
   "source": [
    "12) Si la cantidad de números que se evalúa es mayor a treinta, esa optimización crece?\n",
    "Si, porque son menos ciclos acumulados (en el while) que debe ejecutar. Por ejemplo el número 98 al 2 aborta el ciclo, mientras que en anterior lo repetía 96 veces"
   ]
  },
  {
   "cell_type": "code",
   "execution_count": null,
   "id": "9d713824",
   "metadata": {},
   "outputs": [],
   "source": [
    "# Sin break\n",
    "Fin = 100\n",
    "ContadorNB = 0\n",
    "for x in range (2,Fin+1):\n",
    "    if x == 2:\n",
    "        print(x, \"es un número primo\")\n",
    "    else:\n",
    "        Divisor = 2\n",
    "        PrimoSi = 0\n",
    "        while Divisor < x:\n",
    "            ContadorNB += 1\n",
    "            if x % Divisor == 0:\n",
    "                PrimoSi += 1\n",
    "            Divisor += 1\n",
    "        if PrimoSi == 0:\n",
    "            print(x, \"es un número primo\")\n",
    "print(\"La cantidad de ciclos sin Break fue de \",ContadorNB)\n",
    "\n",
    "# Con break\n",
    "Fin = 100\n",
    "ContadorCB = 0\n",
    "for x in range (2,Fin+1):\n",
    "    if x == 2:\n",
    "        print(x, \"es un número primo\")\n",
    "    else:\n",
    "        Divisor = 2\n",
    "        while Divisor < x:\n",
    "            ContadorCB += 1\n",
    "            if x % Divisor == 0:\n",
    "                break\n",
    "            elif Divisor == x-1:\n",
    "                print(x, \"es un número primo\")\n",
    "            Divisor += 1\n",
    "print(\"La cantidad de ciclos con Break fue de \",ContadorCB)\n",
    "\n",
    "print(\"El nivel de optimización fue de\",round((ContadorCB/ContadorNB)*100,2),\"%\")"
   ]
  },
  {
   "cell_type": "markdown",
   "id": "a3e799f9",
   "metadata": {},
   "source": [
    "13) Aplicando continue, armar un ciclo while que solo imprima los valores divisibles por 12, dentro del rango de números de 100 a 300"
   ]
  },
  {
   "cell_type": "code",
   "execution_count": null,
   "id": "f6eec452",
   "metadata": {},
   "outputs": [],
   "source": [
    "Inicio = 100\n",
    "Final = 300\n",
    "y = Inicio-1\n",
    "while y <= Final:\n",
    "    y += 1\n",
    "    if y % 12 != 0:\n",
    "        continue\n",
    "    else:\n",
    "        print(\"El número\",y,\"es divisible por 12\")"
   ]
  },
  {
   "cell_type": "markdown",
   "id": "6f8db4a1",
   "metadata": {},
   "source": [
    "14) Utilizar la función **input()** que permite hacer ingresos por teclado, para encontrar números primos y dar la opción al usario de buscar el siguiente"
   ]
  },
  {
   "cell_type": "code",
   "execution_count": null,
   "id": "6cc2e1b0",
   "metadata": {},
   "outputs": [],
   "source": [
    "Num1 = int(input(\"Ingrese el número entero desde el cual desea empezar la busqueda los números primos: \"))\n",
    "Num2 = int(input(\"Ingrese el número entero en el cual desea finalizar la busqueda los números primos: \"))\n",
    "Fin = Num2\n",
    "if Num1 < 2:\n",
    "    Num1 = 2\n",
    "for x in range (Num1,Fin+1):\n",
    "    if x == 2:\n",
    "        print(x, \"es un número primo\")\n",
    "        Rta = input(\"¿Desea ver el siguiente número Primo? (s/n)\")\n",
    "    else:\n",
    "        Divisor = 2\n",
    "        while Divisor < x:\n",
    "            if x % Divisor == 0:\n",
    "                break\n",
    "            elif Divisor == x-1:\n",
    "                print(x, \"es un número primo\")\n",
    "                Rta = input(\"¿Desea ver el siguiente número Primo? (s/n)\")\n",
    "            Divisor += 1\n",
    "    if Rta == \"s\":\n",
    "        continue\n",
    "    elif Rta == \"n\":\n",
    "        print(\"final de la busqueda\")\n",
    "        break\n",
    "    else:\n",
    "        print(\"no reconozco la respuesta ingresada\")\n",
    "        break"
   ]
  },
  {
   "cell_type": "markdown",
   "id": "99d753d3",
   "metadata": {},
   "source": [
    "15) Crear un ciclo while que encuentre dentro del rango de 100 a 300 el primer número divisible por 3 y además múltiplo de 6"
   ]
  },
  {
   "cell_type": "code",
   "execution_count": null,
   "id": "e1f334e6",
   "metadata": {},
   "outputs": [],
   "source": [
    "Min = 100\n",
    "Max = 300\n",
    "z = Min\n",
    "while z <= Max:\n",
    "    a = z % 3\n",
    "    b = z % 6\n",
    "    if a == 0 & b == 0:\n",
    "        print(\"el primer número divisible por 3 y múltiplo de 6 en el rango de \", Min, \"y\",Max, \"es\",z)\n",
    "        break\n",
    "    else:\n",
    "        z += 1"
   ]
  }
 ],
 "metadata": {
  "kernelspec": {
   "display_name": "Python 3 (Spyder)",
   "language": "python3",
   "name": "python3"
  },
  "language_info": {
   "codemirror_mode": {
    "name": "ipython",
    "version": 3
   },
   "file_extension": ".py",
   "mimetype": "text/x-python",
   "name": "python",
   "nbconvert_exporter": "python",
   "pygments_lexer": "ipython3",
   "version": "3.10.9"
  }
 },
 "nbformat": 4,
 "nbformat_minor": 5
}
